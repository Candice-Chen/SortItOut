{
 "cells": [
  {
   "cell_type": "code",
   "execution_count": 17,
   "metadata": {},
   "outputs": [],
   "source": [
    "#assuming 3 subunits, subunit A,B,C\n",
    "#Vol (A) =3, Vol (B)=4, Vol(C)=5\n",
    "#maximum copies of subunits for total volume y would be \n",
    "#[1,1,1] (each subunit must be present at least once) \n",
    "# plus\n",
    "#[(y-3-4-5)/3,0,0] (remainder of volume / the smallest subunit)\n",
    "def maxcopies(lst_vol,targ_vol):\n",
    "    lst_res=[1,1,1]\n",
    "    remainder_vol=targ_vol-sum(lst_vol)\n",
    "    min_vol=min(lst_vol)\n",
    "    min_idx=lst_vol.index(min_vol)\n",
    "    coefficient=remainder_vol//min_vol\n",
    "    lst_res[min_idx]=lst_res[min_idx]+coefficient\n",
    "    return lst_res\n",
    "    "
   ]
  },
  {
   "cell_type": "code",
   "execution_count": 18,
   "metadata": {},
   "outputs": [
    {
     "data": {
      "text/plain": [
       "[3, 1, 1]"
      ]
     },
     "execution_count": 18,
     "metadata": {},
     "output_type": "execute_result"
    }
   ],
   "source": [
    "lst=[3,4,5]\n",
    "maxcopies(lst,20)\n"
   ]
  },
  {
   "cell_type": "code",
   "execution_count": 24,
   "metadata": {},
   "outputs": [],
   "source": [
    "#assuming 3 subunits, subunit A,B,C\n",
    "#Vol (A) =3, Vol (B)=4, Vol(C)=5\n",
    "#mininum copies of subunits for total volume y would be \n",
    "#[1,1,1] (each subunit must be present at least once) \n",
    "# plus\n",
    "#[(0,0,(y-3-4-5)/5] (remainder of volume / the largest subunit)\n",
    "def mincopies(lst_vol,targ_vol):\n",
    "    lst_res=[1,1,1]\n",
    "    remainder_vol=targ_vol-sum(lst_vol)\n",
    "    max_vol=max(lst_vol)\n",
    "    max_idx=lst_vol.index(max_vol)\n",
    "    coefficient=remainder_vol//max_vol\n",
    "    lst_res[max_idx]=lst_res[max_idx]+coefficient\n",
    "    return lst_res\n",
    "    "
   ]
  },
  {
   "cell_type": "code",
   "execution_count": 25,
   "metadata": {},
   "outputs": [
    {
     "name": "stdout",
     "output_type": "stream",
     "text": [
      "[1, 1, 2]\n"
     ]
    }
   ],
   "source": [
    "lst=[3,4,5]\n",
    "print(mincopies(lst,20))"
   ]
  },
  {
   "cell_type": "code",
   "execution_count": 47,
   "metadata": {},
   "outputs": [
    {
     "name": "stdout",
     "output_type": "stream",
     "text": [
      "[1, 2, 2]\n",
      "[1, 2, 2]\n",
      "[1, 3, 1]\n",
      "[1, 3, 1]\n",
      "[1, 1, 3]\n",
      "[1, 1, 3]\n",
      "[1, 2, 2]\n",
      "[1, 3, 1]\n",
      "[1, 1, 3]\n",
      "[2, 1, 2]\n",
      "[2, 1, 2]\n",
      "[2, 2, 1]\n",
      "[2, 1, 2]\n",
      "[3, 1, 1]\n",
      "[1, 2, 2]\n",
      "[1, 3, 1]\n",
      "[1, 1, 3]\n",
      "[2, 1, 2]\n",
      "[1, 2, 3]\n",
      "[1, 2, 3]\n",
      "[1, 2, 3]\n",
      "[1, 3, 2]\n",
      "[1, 3, 2]\n",
      "[1, 2, 3]\n",
      "[1, 2, 3]\n",
      "[1, 3, 2]\n",
      "[1, 2, 3]\n",
      "[2, 3, 1]\n",
      "[2, 3, 1]\n",
      "[2, 1, 3]\n",
      "[2, 1, 3]\n",
      "[2, 2, 2]\n",
      "[2, 3, 1]\n",
      "[2, 1, 3]\n",
      "[3, 1, 2]\n",
      "[3, 1, 2]\n",
      "[3, 2, 1]\n",
      "[3, 1, 2]\n",
      "[1, 2, 3]\n",
      "[1, 2, 3]\n",
      "[1, 3, 2]\n",
      "[1, 2, 3]\n",
      "[2, 3, 1]\n",
      "[2, 1, 3]\n",
      "[3, 1, 2]\n",
      "[1, 2, 3]\n"
     ]
    }
   ],
   "source": [
    "#so the total number of copies of subunits would be between 4 and 5\n",
    "#whenever total copies of subunits exceed 5, we can stop there\n",
    "#def coefficient(lst_vol,targ_vol,p):\n",
    "min_copies=sum(mincopies(lst_vol,targ_vol))\n",
    "max_copies=sum(maxcopies(lst_vol,targ_vol))\n",
    "    \n",
    "def subset_sum(numbers, target, length, partial=[]):\n",
    "    s = sum(partial)\n",
    "    # check if the partial sum is equals to target\n",
    "    if s == target and len(partial)==length: \n",
    "        print (partial)\n",
    "    if s >= target:\n",
    "        return  # if we reach the number why bother to continue\n",
    "    for i in range(len(numbers)):\n",
    "        n = numbers[i]\n",
    "        remaining = numbers[i+1:]\n",
    "        subset_sum(remaining, target, length, partial + [n]) \n",
    "        \n",
    "lst=[1,2,3]*3\n",
    "subset_sum(lst,5,3)\n",
    "subset_sum(lst,6,3)\n",
    "    "
   ]
  },
  {
   "cell_type": "code",
   "execution_count": null,
   "metadata": {},
   "outputs": [],
   "source": []
  },
  {
   "cell_type": "code",
   "execution_count": null,
   "metadata": {},
   "outputs": [],
   "source": []
  }
 ],
 "metadata": {
  "kernelspec": {
   "display_name": "Python 3",
   "language": "python",
   "name": "python3"
  },
  "language_info": {
   "codemirror_mode": {
    "name": "ipython",
    "version": 3
   },
   "file_extension": ".py",
   "mimetype": "text/x-python",
   "name": "python",
   "nbconvert_exporter": "python",
   "pygments_lexer": "ipython3",
   "version": "3.7.4"
  }
 },
 "nbformat": 4,
 "nbformat_minor": 4
}
